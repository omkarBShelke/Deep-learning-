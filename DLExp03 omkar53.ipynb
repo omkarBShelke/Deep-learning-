{
  "nbformat": 4,
  "nbformat_minor": 0,
  "metadata": {
    "colab": {
      "provenance": []
    },
    "kernelspec": {
      "name": "python3",
      "display_name": "Python 3"
    },
    "language_info": {
      "name": "python"
    }
  },
  "cells": [
    {
      "cell_type": "code",
      "execution_count": 3,
      "metadata": {
        "id": "Yn_BOKLWFYSV"
      },
      "outputs": [],
      "source": [
        "def nesterov_gradient_descent(gradient_func, initial_position,\n",
        "                              learning_rate=0.01, momentum=0.9, num_iterations=100):\n",
        "    position = initial_position\n",
        "    velocity = 0\n",
        "    for _ in range(num_iterations):\n",
        "        # Compute the gradient at the intermediate position\n",
        "        intermediate_position = position + momentum * velocity\n",
        "        gradient = gradient_func(intermediate_position)\n",
        "        # Update the velocity and position using the Nesterov update rule\n",
        "        velocity = momentum * velocity - learning_rate * gradient\n",
        "        position += velocity\n",
        "    return position\n"
      ]
    },
    {
      "cell_type": "code",
      "source": [
        "def quadratic_function(x):\n",
        "    return 2 * x - 4 # Gradient of the function 2x^2 - 4x\n",
        "\n",
        "initial_position = 0 # Initial position of the optimization process\n",
        "\n",
        "final_position_nesterov = nesterov_gradient_descent(quadratic_function,\n",
        "                                                    initial_position)\n",
        "print(\"Optimal solution using Nesterov Gradient Descent:\",\n",
        "      final_position_nesterov)\n"
      ],
      "metadata": {
        "colab": {
          "base_uri": "https://localhost:8080/"
        },
        "id": "y4CZhOelGDzF",
        "outputId": "4d69d281-88f4-4794-94fb-a7801b8f0fcd"
      },
      "execution_count": 5,
      "outputs": [
        {
          "output_type": "stream",
          "name": "stdout",
          "text": [
            "Optimal solution using Nesterov Gradient Descent: 1.9960756416676375\n"
          ]
        }
      ]
    },
    {
      "cell_type": "code",
      "source": [],
      "metadata": {
        "id": "U027JXlGGX3s"
      },
      "execution_count": null,
      "outputs": []
    }
  ]
}